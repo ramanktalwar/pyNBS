{
 "cells": [
  {
   "cell_type": "code",
   "execution_count": 1,
   "metadata": {
    "collapsed": true
   },
   "outputs": [],
   "source": [
    "%load_ext autoreload\n",
    "%autoreload 2"
   ]
  },
  {
   "cell_type": "code",
   "execution_count": 2,
   "metadata": {
    "collapsed": true
   },
   "outputs": [],
   "source": [
    "import numpy as np\n",
    "import pandas as pd\n",
    "import os\n",
    "import pyNBS as nbs"
   ]
  },
  {
   "cell_type": "markdown",
   "metadata": {
    "collapsed": true
   },
   "source": [
    "# Preprocess data"
   ]
  },
  {
   "cell_type": "code",
   "execution_count": 3,
   "metadata": {
    "collapsed": true
   },
   "outputs": [],
   "source": [
    "fn = '/cellar/data/users/wzhang1984/Firehose/Firehose__2016_01_28/analyses/LUAD/Mutation_Assessor/LUAD-TP.maf.annotated'\n",
    "df = pd.read_table(fn,low_memory=False)"
   ]
  },
  {
   "cell_type": "code",
   "execution_count": 4,
   "metadata": {
    "collapsed": true
   },
   "outputs": [],
   "source": [
    "df = df.loc[(df.loc[:,'is_flank']==0) & (df.loc[:,'is_silent']==0),:]"
   ]
  },
  {
   "cell_type": "code",
   "execution_count": 5,
   "metadata": {
    "collapsed": true
   },
   "outputs": [],
   "source": [
    "df['pat'] = df.loc[:,'patient'].str[:12]"
   ]
  },
  {
   "cell_type": "code",
   "execution_count": 6,
   "metadata": {
    "collapsed": true
   },
   "outputs": [],
   "source": [
    "df.loc[:,['pat','Hugo_Symbol']].to_csv('../data/LUAD_pat2mut.txt',sep='\\t',header=False,index=False)"
   ]
  },
  {
   "cell_type": "code",
   "execution_count": 7,
   "metadata": {},
   "outputs": [
    {
     "data": {
      "text/plain": [
       "0"
      ]
     },
     "execution_count": 7,
     "metadata": {},
     "output_type": "execute_result"
    }
   ],
   "source": [
    "os.system('cp /cellar/data/users/wzhang1984/forNBS/FIsInGene_031516_with_annotations.txt ../data')\n",
    "os.system('cp /cellar/data/users/wzhang1984/PCAWG/pat2clin4surv.txt ../data')"
   ]
  },
  {
   "cell_type": "markdown",
   "metadata": {
    "collapsed": true
   },
   "source": [
    "# Network propagation (iteration)"
   ]
  },
  {
   "cell_type": "code",
   "execution_count": 8,
   "metadata": {},
   "outputs": [
    {
     "name": "stdout",
     "output_type": "stream",
     "text": [
      "* Loading PPI...\n",
      "\t- Edges: 228919\n",
      "\t- Nodes: 12175\n",
      "* Removing self-loops, multi-edges, and restricting to largest connected component...\n",
      "\t- Largest CC Edges: 228827\n",
      "\t- Largest CC Nodes: 12033\n",
      "* Saving updated node list to file...\n"
     ]
    }
   ],
   "source": [
    "file_name = '../data/FIsInGene_031516_with_annotations.txt'\n",
    "output_dir = '../data/'\n",
    "network, gene2index=nbs.load_network(file_name,output_dir)"
   ]
  },
  {
   "cell_type": "code",
   "execution_count": 9,
   "metadata": {},
   "outputs": [
    {
     "name": "stdout",
     "output_type": "stream",
     "text": [
      "\t- Genes in adjacency matrix: 10212\n",
      "* Saving patient list to file...\n"
     ]
    }
   ],
   "source": [
    "file_name = '../data/LUAD_pat2mut.txt'\n",
    "mutation_profile, pat2index = nbs.load_mutation(file_name,output_dir,gene2index)"
   ]
  },
  {
   "cell_type": "code",
   "execution_count": 10,
   "metadata": {},
   "outputs": [
    {
     "name": "stdout",
     "output_type": "stream",
     "text": [
      "0 iteration: delta is 2.11511608854\n",
      "1 iteration: delta is 0.539683154566\n",
      "2 iteration: delta is 0.117364393966\n",
      "3 iteration: delta is 0.0552451507565\n",
      "4 iteration: delta is 0.0229251368236\n",
      "5 iteration: delta is 0.0118859904628\n",
      "6 iteration: delta is 0.00555218448927\n",
      "7 iteration: delta is 0.0029636450549\n",
      "8 iteration: delta is 0.00143451896724\n",
      "9 iteration: delta is 0.00077921950409\n",
      "10 iteration: delta is 0.000385843849283\n",
      "11 iteration: delta is 0.000212511177116\n",
      "12 iteration: delta is 0.000107291942181\n",
      "13 iteration: delta is 5.97629771225e-05\n",
      "Finish propagating the data...\n"
     ]
    }
   ],
   "source": [
    "rst_prob = 0.4\n",
    "converge_rate = 0.0001\n",
    "\n",
    "# run network propagation\n",
    "pat_diff = nbs.run_diffusion(network,rst_prob,mutation_profile,converge_rate)\n",
    "\n",
    "# write propagated network on hard disk\n",
    "with open('{}/prop_pat_mut.npy'.format(output_dir),'w') as file_handle:\n",
    "    np.save(file_handle,pat_diff)\n",
    "\n",
    "print 'Finish propagating the data...'"
   ]
  },
  {
   "cell_type": "markdown",
   "metadata": {},
   "source": [
    "# Netwprk propagation (using PPR matrix)"
   ]
  },
  {
   "cell_type": "code",
   "execution_count": 11,
   "metadata": {},
   "outputs": [
    {
     "name": "stdout",
     "output_type": "stream",
     "text": [
      "* Loading PPI...\n",
      "\t- Edges: 228919\n",
      "\t- Nodes: 12175\n",
      "* Removing self-loops, multi-edges, and restricting to largest connected component...\n",
      "\t- Largest CC Edges: 228827\n",
      "\t- Largest CC Nodes: 12033\n",
      "* Saving updated node list to file...\n"
     ]
    }
   ],
   "source": [
    "# Load network\n",
    "\n",
    "file_name = '../data/FIsInGene_031516_with_annotations.txt'\n",
    "output_dir = '../data/'\n",
    "network, gene2index=nbs.load_network(file_name,output_dir)"
   ]
  },
  {
   "cell_type": "code",
   "execution_count": 12,
   "metadata": {},
   "outputs": [
    {
     "name": "stdout",
     "output_type": "stream",
     "text": [
      "* Creating PPR  matrix...\n"
     ]
    }
   ],
   "source": [
    "# It takes a long time to compute the inverse matrix. But it only has to be done once.\n",
    "\n",
    "rst_prob = 0.2\n",
    "network_output_dir = output_dir\n",
    "\n",
    "PPR = nbs.create_ppr_matrix(network,rst_prob,network_output_dir)"
   ]
  },
  {
   "cell_type": "code",
   "execution_count": 35,
   "metadata": {
    "collapsed": true
   },
   "outputs": [],
   "source": [
    "# load PPR matrix\n",
    "\n",
    "output_dir = '../data/'\n",
    "PPR = np.load('{}/ppr_0.2.npy'.format(network_output_dir))"
   ]
  },
  {
   "cell_type": "code",
   "execution_count": 36,
   "metadata": {},
   "outputs": [
    {
     "name": "stdout",
     "output_type": "stream",
     "text": [
      "\t- Genes in adjacency matrix: 10212\n",
      "* Saving patient list to file...\n"
     ]
    }
   ],
   "source": [
    "# Load mutations\n",
    "\n",
    "output_dir = '../data/'\n",
    "file_name = '../data/LUAD_pat2mut.txt'\n",
    "mutation_profile, pat2index = nbs.load_mutation(file_name,output_dir,gene2index)"
   ]
  },
  {
   "cell_type": "code",
   "execution_count": 37,
   "metadata": {},
   "outputs": [
    {
     "name": "stdout",
     "output_type": "stream",
     "text": [
      "Finish propagating the data...\n"
     ]
    }
   ],
   "source": [
    "# Network propagation\n",
    "\n",
    "pat_diff = nbs.run_diffusion_PPR(PPR,mutation_profile)\n",
    "\n",
    "# write propagated network on hard disk\n",
    "with open('{}/prop_pat_mut.npy'.format(output_dir),'w') as file_handle:\n",
    "    np.save(file_handle,pat_diff)\n",
    "\n",
    "print 'Finish propagating the data...'"
   ]
  },
  {
   "cell_type": "markdown",
   "metadata": {},
   "source": [
    "# Clustering"
   ]
  },
  {
   "cell_type": "code",
   "execution_count": 38,
   "metadata": {
    "collapsed": true
   },
   "outputs": [],
   "source": [
    "M_prop = np.load('../data/prop_pat_mut.npy')\n",
    "with open('../data/index_genes') as file_handle:\n",
    "    genes = [a[1] for a in [line.split() for line in file_handle.read().splitlines()]]\n",
    "with open('../data/index_patients') as file_handle:\n",
    "    pats = [a[1] for a in [line.split() for line in file_handle.read().splitlines()]]\n",
    "M_prop=pd.DataFrame(data=M_prop,index=pats,columns=genes)"
   ]
  },
  {
   "cell_type": "code",
   "execution_count": 39,
   "metadata": {
    "collapsed": true
   },
   "outputs": [],
   "source": [
    "M_prop_pca, pca_components, explained_variance_ratio = nbs.run_pca(M_prop)"
   ]
  },
  {
   "cell_type": "code",
   "execution_count": 40,
   "metadata": {},
   "outputs": [
    {
     "data": {
      "text/plain": [
       "0.52207555616169732"
      ]
     },
     "execution_count": 40,
     "metadata": {},
     "output_type": "execute_result"
    }
   ],
   "source": [
    "explained_variance_ratio[:100].sum()"
   ]
  },
  {
   "cell_type": "code",
   "execution_count": 41,
   "metadata": {},
   "outputs": [
    {
     "name": "stdout",
     "output_type": "stream",
     "text": [
      "Silhouette Score with n_clusters= 2 score: -0.0301750543115\n",
      "Silhouette Score with n_clusters= 3 score: -0.144581363867\n",
      "Silhouette Score with n_clusters= 4 score: -0.212887530219\n",
      "Silhouette Score with n_clusters= 7 score: -0.249667345037\n",
      "Silhouette Score with n_clusters= 8 score: -0.254130936064\n",
      "Silhouette Score with n_clusters= 5 score: -0.232685389429\n",
      "Silhouette Score with n_clusters= 6 score: -0.239299425137\n",
      "Silhouette Score with n_clusters= 9 score: -0.259830835002\n",
      "Silhouette Score with n_clusters= 10 score: -0.255337004661\n"
     ]
    }
   ],
   "source": [
    "labels = nbs.run_clustering_mp(M_prop_pca.iloc[:,:100], 10, nbs.run_SpectralClustering)"
   ]
  },
  {
   "cell_type": "code",
   "execution_count": 42,
   "metadata": {},
   "outputs": [
    {
     "data": {
      "text/plain": [
       "2    62\n",
       "1    61\n",
       "0    61\n",
       "7    57\n",
       "6    57\n",
       "4    54\n",
       "8    52\n",
       "5    45\n",
       "3    43\n",
       "9    41\n",
       "Name: K10, dtype: int64"
      ]
     },
     "execution_count": 42,
     "metadata": {},
     "output_type": "execute_result"
    }
   ],
   "source": [
    "labels.K10.value_counts()"
   ]
  },
  {
   "cell_type": "markdown",
   "metadata": {},
   "source": [
    "# Survival analysis"
   ]
  },
  {
   "cell_type": "code",
   "execution_count": 43,
   "metadata": {},
   "outputs": [
    {
     "data": {
      "text/plain": [
       "0"
      ]
     },
     "execution_count": 43,
     "metadata": {},
     "output_type": "execute_result"
    }
   ],
   "source": [
    "nbs.run_coxph('../data/pat2clin4surv.txt', labels, '../data/survival/')"
   ]
  },
  {
   "cell_type": "markdown",
   "metadata": {
    "collapsed": true
   },
   "source": [
    "# Subnetworks"
   ]
  },
  {
   "cell_type": "code",
   "execution_count": 44,
   "metadata": {},
   "outputs": [
    {
     "name": "stdout",
     "output_type": "stream",
     "text": [
      "Finish ttest\n",
      "Finish Fisher exact test\n",
      "Summarizing subtype signatures\n",
      "Summarizing subnetworks\n"
     ]
    },
    {
     "data": {
      "text/plain": [
       "0"
      ]
     },
     "execution_count": 44,
     "metadata": {},
     "output_type": "execute_result"
    }
   ],
   "source": [
    "M = pd.DataFrame(data=mutation_profile,index=pats,columns=genes)\n",
    "K = labels.loc[:,'K8']\n",
    "test_n_processes = 24\n",
    "pat2mut_fn = '../data/LUAD_pat2mut.txt'\n",
    "network_fn = '../data/FIsInGene_031516_with_annotations.txt'\n",
    "output_dir = '../data/network'\n",
    "ttest_fdr_cut = 0.3\n",
    "\n",
    "nbs.subnetwork_wrapper(M, M_prop, K, test_n_processes, pat2mut_fn, network_fn, output_dir, ttest_fdr_cut)"
   ]
  },
  {
   "cell_type": "code",
   "execution_count": null,
   "metadata": {
    "collapsed": true
   },
   "outputs": [],
   "source": []
  },
  {
   "cell_type": "code",
   "execution_count": null,
   "metadata": {
    "collapsed": true
   },
   "outputs": [],
   "source": []
  },
  {
   "cell_type": "code",
   "execution_count": null,
   "metadata": {
    "collapsed": true
   },
   "outputs": [],
   "source": []
  },
  {
   "cell_type": "code",
   "execution_count": null,
   "metadata": {
    "collapsed": true
   },
   "outputs": [],
   "source": []
  },
  {
   "cell_type": "code",
   "execution_count": null,
   "metadata": {
    "collapsed": true
   },
   "outputs": [],
   "source": []
  },
  {
   "cell_type": "code",
   "execution_count": null,
   "metadata": {
    "collapsed": true
   },
   "outputs": [],
   "source": []
  },
  {
   "cell_type": "code",
   "execution_count": null,
   "metadata": {
    "collapsed": true
   },
   "outputs": [],
   "source": []
  },
  {
   "cell_type": "code",
   "execution_count": null,
   "metadata": {
    "collapsed": true
   },
   "outputs": [],
   "source": []
  },
  {
   "cell_type": "code",
   "execution_count": null,
   "metadata": {
    "collapsed": true
   },
   "outputs": [],
   "source": []
  }
 ],
 "metadata": {
  "kernelspec": {
   "display_name": "Python 2",
   "language": "python",
   "name": "python2"
  },
  "language_info": {
   "codemirror_mode": {
    "name": "ipython",
    "version": 2
   },
   "file_extension": ".py",
   "mimetype": "text/x-python",
   "name": "python",
   "nbconvert_exporter": "python",
   "pygments_lexer": "ipython2",
   "version": "2.7.13"
  }
 },
 "nbformat": 4,
 "nbformat_minor": 1
}
